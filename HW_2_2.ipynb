{
  "nbformat": 4,
  "nbformat_minor": 0,
  "metadata": {
    "colab": {
      "provenance": [],
      "authorship_tag": "ABX9TyObMz6L/rGIe8Olkviw8XnX",
      "include_colab_link": true
    },
    "kernelspec": {
      "name": "python3",
      "display_name": "Python 3"
    },
    "language_info": {
      "name": "python"
    }
  },
  "cells": [
    {
      "cell_type": "markdown",
      "metadata": {
        "id": "view-in-github",
        "colab_type": "text"
      },
      "source": [
        "<a href=\"https://colab.research.google.com/github/Colette-c/MAT-422/blob/main/HW_2_2.ipynb\" target=\"_parent\"><img src=\"https://colab.research.google.com/assets/colab-badge.svg\" alt=\"Open In Colab\"/></a>"
      ]
    },
    {
      "cell_type": "markdown",
      "source": [
        "# Probability Axioms\n",
        "\n",
        "The **sample space** of an experiment, denoted by S, is the set of all possible outcomes of that experiment.\n",
        "\n",
        "An **event** is any collection (subset) of outcomes contained in the sample space S.\n",
        "\n",
        "The **probability distribution** is a function which assign to each event A a number P(A), called the probability of the event A, which will give a precise measure of the chance that A will occur.\n",
        "\n",
        "Probability assignments should satisfy the following axioms:\n",
        "For any event $A, 0 \\leq P(A) \\leq 1$\n",
        "$P(S)=1$.\n",
        "If $A_1,A_2, A_3, ...$ is an infinite collection of disjoint events then\n",
        "$P(A_1 \\cup A_2 \\cup A_3 \\cup ...) = \\Sigma_{i=1}^{\\infty}P(A_i)$\n",
        "For any event $A, P(A)+P(A')=1$, from which $P(A)=1-P(A')$\n",
        "When events $A$ and $B$ are mutually exculsive, $P(A \\cup B)=P(A)+P(B)$\n",
        "For any two events $A$ and $B$, P(A \\cup B)=P(A)"
      ],
      "metadata": {
        "id": "bWTy8O58IB-Q"
      }
    },
    {
      "cell_type": "markdown",
      "source": [
        "# Conditional Probability\n",
        "\n",
        "For any two events $A$ and $B$ with $P(B)>0$, the **conditional probability** of $A$ given $B$ has occured is defined by $P(A|B)=\\frac{P(A \\cap B)}{P(B)}$ which is equivalent to $P(A \\cap B)=P(A|B)P(B)$\n",
        "\n",
        "Two events $A$ and $B$ are independent if $P(A|B)=P(A)(P(A\\cap B)$"
      ],
      "metadata": {
        "id": "U7C4JGj7IEwx"
      }
    },
    {
      "cell_type": "markdown",
      "source": [
        "# Discrete Random Variables\n",
        "\n",
        "A **random variable** is understood as a measurable function defined on a probability space that maps from the sample space to the real numbers.\n",
        "\n",
        "For a given sample Space $S$ of some experiment, a random variable is any rule that associates a number with each outcome in $S$.\n",
        "\n",
        "A **discrete random variable** is a random variable whose possible values either constitute a finite set or else can be listed in an infinite sequence.\n",
        "\n",
        "The probability distribution or probability mass function of a discrete random variable is defined for every number $x$ by $p(x)=P(X=x)=P($all $   s \\in S: X(s)=x)$.\n",
        "\n",
        "Any random variable whose only possible values are 0 and 1 is called a Bernoulli random variable. The binomial random variable $X$ associated with independent Bernoulli experiment consisting of n trials is defined as $X=$ the number of S's amoung the $n$ trials.\n",
        "\n",
        "And the pmf of X has the form: $$b(x;n,p)= \\begin{array}{rcl} & {n \\choose x}p^x(1-p)^{n-x}, & x=0,1,2,3,...,n \\\\ & 0, &\\text{       otherwise}\\end{array}$$\n",
        "\n",
        "The cdf of $X$ has the form $$B(x;n,p)=P(X\\leq x)=\\sum_{y\\leq x}{b(x;n,p)}=\\sum_{y=0}^{x}{n \\choose y}p^x(1-p)^{n-x}$$"
      ],
      "metadata": {
        "id": "klD_bqGoIHGS"
      }
    }
  ]
}