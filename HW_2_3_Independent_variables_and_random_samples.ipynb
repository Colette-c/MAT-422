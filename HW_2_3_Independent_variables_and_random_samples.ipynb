{
  "nbformat": 4,
  "nbformat_minor": 0,
  "metadata": {
    "colab": {
      "provenance": [],
      "authorship_tag": "ABX9TyMvAYSbQ9D3ramukZiWjPS/",
      "include_colab_link": true
    },
    "kernelspec": {
      "name": "python3",
      "display_name": "Python 3"
    },
    "language_info": {
      "name": "python"
    }
  },
  "cells": [
    {
      "cell_type": "markdown",
      "metadata": {
        "id": "view-in-github",
        "colab_type": "text"
      },
      "source": [
        "<a href=\"https://colab.research.google.com/github/Colette-c/MAT-422/blob/main/HW_2_3_Independent_variables_and_random_samples.ipynb\" target=\"_parent\"><img src=\"https://colab.research.google.com/assets/colab-badge.svg\" alt=\"Open In Colab\"/></a>"
      ]
    },
    {
      "cell_type": "markdown",
      "source": [
        "# Joint Probability Distributions\n",
        "\n",
        "The **joint probability mass function** $p(x,y)$ is defined for each pair of values $(x,y)$ by:\n",
        "$p(x,y)=P(X=x $ and $ Y=y)$. It must be the case that $p(x,y) \\ge 0$ and $\\sum_x \\sum_y p(x,y)=1$.\n",
        "\n",
        "The **marginal probability mass funcction** of $X$, $p_X(x)$ is:\n",
        "$$p_x(x)=∑_{y:p(x,y)>0}p(x,y) \\ \\ \\ \\  \\text{for each possible value y}$$\n",
        "\n",
        "Let $X$ and $Y$ be continuous random variables. A **joint probability density function** $f(x,y)$ for these two variables is a function satisfying f(x,y) for these two variables is a function satisfying $f(x,y) \\ge 0$ and $\\int_{-\\infty}^{\\infty} \\int_{-\\infty}^{\\infty} f(x,y)dxdy=1$. Then for any two-dimensional set A, $$P[(X,Y) \\in A]=\\int \\int_A f(x,y)dxdy$$\n",
        "\n",
        "The marginal probability density functions of $X$, $f_X(x)$ and $f_Y(y)$, is, and similar for $f_y(y)$:\n",
        "$$f_X(x)=\\int_{-\\infty}^{\\infty} f(x,y)dy\\ \\ \\ \\ \\text{for } -\\infty < x < \\infty$$\n",
        "\n",
        "Two random variables $X$ and $Y$ are said to be **independent** if for every pair of $x$ and $y$ values, $$p(x,y)=p_X(x) *p_Y(y) \\ \\ \\ \\ \\text{when } X \\text{ and } Y \\text{ are discrete}$$ or $$f(x,y)=f_X(x)*f_Y(y) \\ \\ \\ \\ \\text{when } X \\text{ and } Y \\text{ are continuous}$$"
      ],
      "metadata": {
        "id": "Ul3Zquk50WrX"
      }
    },
    {
      "cell_type": "code",
      "execution_count": 2,
      "metadata": {
        "colab": {
          "base_uri": "https://localhost:8080/",
          "height": 624
        },
        "id": "BdUyP8HK0N0g",
        "outputId": "66423d00-e6bc-47ac-cbe6-ff44ec03d976"
      },
      "outputs": [
        {
          "output_type": "execute_result",
          "data": {
            "text/plain": [
              "<seaborn.axisgrid.JointGrid at 0x7d7b51e65f30>"
            ]
          },
          "metadata": {},
          "execution_count": 2
        },
        {
          "output_type": "display_data",
          "data": {
            "text/plain": [
              "<Figure size 600x600 with 3 Axes>"
            ],
            "image/png": "[encoded data removed]"
          },
          "metadata": {}
        }
      ],
      "source": [
        "##Visualize Joint Probability Distribution\n",
        "import numpy as np\n",
        "import seaborn as sns\n",
        "import pandas as pd\n",
        "\n",
        "##100 random points of a normal distribution\n",
        "X=np.random.normal(size=100)\n",
        "Y=np.random.normal(size=100)\n",
        "\n",
        "df = pd.DataFrame({'X': X, 'Y': Y})\n",
        "\n",
        "sns.jointplot(x='X', y='Y', data=df)"
      ]
    },
    {
      "cell_type": "markdown",
      "source": [
        "# Correlation and Dependence\n",
        "\n",
        "The **covariance** between two random variables $X$ and $Y$ is:\n",
        "$$Cov(X,Y) = E[(X-μ_X)(Y-\\mu_Y)] =  \\left\\{ \\begin{array}{rcl} \\sum_x \\sum_y (x-\\mu_X)(y-\\mu_Y)p(x,y), \\ \\ \\ \\ \\ \\  \\ \\  \\ \\ \\ \\ \\ \\ \\ \\ \\ \\ \\ \\ X, Y \\text{discrete} \\\\ \\int_{-\\infty}^{\\infty}\\int_{-\\infty}^{\\infty}(x-\\mu_X)(y-\\mu_Y)f(x,y)dxdy, \\ \\ \\ \\ X,Y \\text{continuous}  \\end{array}\\right\\} $$\n",
        "\n",
        "\n",
        "The **correlation coefficient** of $X$ and $Y$, denoted by $Corr(X,Y)$ or $\\rho_{X,Y}$, is defined by: $$\\rho_{X,Y}=\\frac{Cov(X,Y)}{\\sigma_X*\\sigma_Y}$$\n",
        "\n",
        "Correlation coefficients have the following properties:\n",
        "1.   If $X$ and $Y$ are independent, then $\\rho=0$ does not imply independence.\n",
        "2.   $|\\rho|\\leq 1, \\rho=1$ or $-1$ if $Y=aX+b$ for some numbers $a$ and $b$ with $a \\neq 0$.\n",
        "\n",
        "The **sample correlation coefficient** or the **sample Pearson correlation coefficent**, $r_{xy}$ given paired data $\\{(x_1,y_1),...,(x_n.y_n) \\}$ consisting of $n$ pairs: $$r_{xy}=\\frac{ \\sum_{i=1}^n(x_i-\\bar{x})(y_i-\\bar{y})}{\\sqrt{\\sum_{i=1}^n(x_i-\\bar{x})^2} \\sqrt{\\sum_{i=1}^n(y_i-\\bar{y})^2}}$$ where $\\bar{x}=\\frac{1}{n}\\sum_{i=1}^{n}x_i$ (the sample mean)."
      ],
      "metadata": {
        "id": "j-JAPU5q0dqQ"
      }
    },
    {
      "cell_type": "code",
      "source": [
        "import scipy.stats\n",
        "\n",
        "##The two random normal distributions from before\n",
        "X=np.random.normal(size=100)\n",
        "Y=np.random.normal(size=100)\n",
        "\n",
        "##Covariance between X,Y\n",
        "covMat = np.cov(X,Y)\n",
        "pearCoeff,_ = scipy.stats.pearsonr(X,Y)\n",
        "\n",
        "print('The Covariance Matrix: ', covMat)\n",
        "print('The Pearson Correlation Coefficient r =', pearCoeff,\n",
        "      '\\n if r>0 positive correlation \\n if r=0 no correlation \\n if r<0 negative correlation')"
      ],
      "metadata": {
        "colab": {
          "base_uri": "https://localhost:8080/"
        },
        "id": "M9ymzyvW0iHV",
        "outputId": "1bdc6be0-1a3d-4459-ee6b-59f04adeeaa8"
      },
      "execution_count": 5,
      "outputs": [
        {
          "output_type": "stream",
          "name": "stdout",
          "text": [
            "The Covariance Matrix:  [[1.07245473 0.12681467]\n",
            " [0.12681467 1.05468852]]\n",
            "The Pearson Correlation Coefficient r= 0.11923887980174322 \n",
            " if r>0 positive correlation \n",
            " if r=0 no correlation \n",
            " if r<0 negative correlation\n"
          ]
        }
      ]
    },
    {
      "cell_type": "markdown",
      "source": [
        "# Random Samples\n",
        "\n",
        "The random variables $X_1, X_2,...,X_n$ are said to form a (simple) **random sample** of size $n$ if:\n",
        "1.   The $X_i$'s are independent random variables.\n",
        "2.   Every $X_i$ has the same probability distribution.\n",
        "\n",
        "**The Central Limit Theorem (CLT)**: Let $X_1, X_2, ..., X_n$ be a random sample from a distribution with a mean $\\mu$ and variance $\\sigma^2$. Then if $n$ is sufficeintly large, $\\bar{X}$ has approximately a normal distribution with $\\mu_{\\bar{X}}=\\mu$ and $\\sigma^2_{\\bar{X}}=\\frac{\\sigma^2}{n}$, and $T_0$ also has approximately a normal distribution with $\\mu_{T_0}=n\\mu$, $\\sigma^2_{T_0}=n\\sigma^2$. The larger the value of n, the better the approximation."
      ],
      "metadata": {
        "id": "9m4CO7lL0itw"
      }
    },
    {
      "cell_type": "code",
      "source": [
        "##Demonstrate CLT\n",
        "import matplotlib.pyplot as plt\n",
        "\n",
        "##Gets a uniform distribution\n",
        "X = list(range(51))\n",
        "\n",
        "##Shows histogram of population\n",
        "plt.hist(X)\n",
        "plt.show\n"
      ],
      "metadata": {
        "colab": {
          "base_uri": "https://localhost:8080/",
          "height": 599
        },
        "id": "DlExkUsCnemg",
        "outputId": "72ae2c20-a5a6-4d5e-e837-25232f478c29"
      },
      "execution_count": 10,
      "outputs": [
        {
          "output_type": "execute_result",
          "data": {
            "text/plain": [
              "<function matplotlib.pyplot.show(close=None, block=None)>"
            ],
            "text/html": [
              "<div style=\"max-width:800px; border: 1px solid var(--colab-border-color);\"><style>\n",
              "      pre.function-repr-contents {\n",
              "        overflow-x: auto;\n",
              "        padding: 8px 12px;\n",
              "        max-height: 500px;\n",
              "      }\n",
              "\n",
              "      pre.function-repr-contents.function-repr-contents-collapsed {\n",
              "        cursor: pointer;\n",
              "        max-height: 100px;\n",
              "      }\n",
              "    </style>\n",
              "    <pre style=\"white-space: initial; background:\n",
              "         var(--colab-secondary-surface-color); padding: 8px 12px;\n",
              "         border-bottom: 1px solid var(--colab-border-color);\"><b>matplotlib.pyplot.show</b><br/>def show(*args, **kwargs)</pre><pre class=\"function-repr-contents function-repr-contents-collapsed\" style=\"\"><a class=\"filepath\" style=\"display:none\" href=\"#\">/usr/local/lib/python3.10/dist-packages/matplotlib/pyplot.py</a>Display all open figures.\n",
              "\n",
              "Parameters\n",
              "----------\n",
              "block : bool, optional\n",
              "    Whether to wait for all figures to be closed before returning.\n",
              "\n",
              "    If `True` block and run the GUI main loop until all figure windows\n",
              "    are closed.\n",
              "\n",
              "    If `False` ensure that all figure windows are displayed and return\n",
              "    immediately.  In this case, you are responsible for ensuring\n",
              "    that the event loop is running to have responsive figures.\n",
              "\n",
              "    Defaults to True in non-interactive mode and to False in interactive\n",
              "    mode (see `.pyplot.isinteractive`).\n",
              "\n",
              "See Also\n",
              "--------\n",
              "ion : Enable interactive mode, which shows / updates the figure after\n",
              "      every plotting command, so that calling ``show()`` is not necessary.\n",
              "ioff : Disable interactive mode.\n",
              "savefig : Save the figure to an image file instead of showing it on screen.\n",
              "\n",
              "Notes\n",
              "-----\n",
              "**Saving figures to file and showing a window at the same time**\n",
              "\n",
              "If you want an image file as well as a user interface window, use\n",
              "`.pyplot.savefig` before `.pyplot.show`. At the end of (a blocking)\n",
              "``show()`` the figure is closed and thus unregistered from pyplot. Calling\n",
              "`.pyplot.savefig` afterwards would save a new and thus empty figure. This\n",
              "limitation of command order does not apply if the show is non-blocking or\n",
              "if you keep a reference to the figure and use `.Figure.savefig`.\n",
              "\n",
              "**Auto-show in jupyter notebooks**\n",
              "\n",
              "The jupyter backends (activated via ``%matplotlib inline``,\n",
              "``%matplotlib notebook``, or ``%matplotlib widget``), call ``show()`` at\n",
              "the end of every cell by default. Thus, you usually don&#x27;t have to call it\n",
              "explicitly there.</pre>\n",
              "      <script>\n",
              "      if (google.colab.kernel.accessAllowed && google.colab.files && google.colab.files.view) {\n",
              "        for (const element of document.querySelectorAll('.filepath')) {\n",
              "          element.style.display = 'block'\n",
              "          element.onclick = (event) => {\n",
              "            event.preventDefault();\n",
              "            event.stopPropagation();\n",
              "            google.colab.files.view(element.textContent, 401);\n",
              "          };\n",
              "        }\n",
              "      }\n",
              "      for (const element of document.querySelectorAll('.function-repr-contents')) {\n",
              "        element.onclick = (event) => {\n",
              "          event.preventDefault();\n",
              "          event.stopPropagation();\n",
              "          element.classList.toggle('function-repr-contents-collapsed');\n",
              "        };\n",
              "      }\n",
              "      </script>\n",
              "      </div>"
            ]
          },
          "metadata": {},
          "execution_count": 10
        },
        {
          "output_type": "display_data",
          "data": {
            "text/plain": [
              "<Figure size 640x480 with 1 Axes>"
            ],
            "image/png": "[encoded data removed]"
          },
          "metadata": {}
        }
      ]
    },
    {
      "cell_type": "code",
      "source": [
        "##take 100 sample means from a sample size of 100 from the population\n",
        "n=100\n",
        "muBar = []\n",
        "Xbar = []\n",
        "for i in range(100):\n",
        "  for j in range(n):\n",
        "    Xbar.append(X[np.random.randint(0,50)])\n",
        "  muBar.append(np.mean(Xbar))\n",
        "\n",
        "##Shows histogram of the populations means\n",
        "plt.hist(muBar)\n",
        "plt.show"
      ],
      "metadata": {
        "colab": {
          "base_uri": "https://localhost:8080/",
          "height": 599
        },
        "id": "nLbJFaf6r19p",
        "outputId": "14eb9c98-52e6-404d-cfc5-efc342f4b938"
      },
      "execution_count": 24,
      "outputs": [
        {
          "output_type": "execute_result",
          "data": {
            "text/plain": [
              "<function matplotlib.pyplot.show(close=None, block=None)>"
            ],
            "text/html": [
              "<div style=\"max-width:800px; border: 1px solid var(--colab-border-color);\"><style>\n",
              "      pre.function-repr-contents {\n",
              "        overflow-x: auto;\n",
              "        padding: 8px 12px;\n",
              "        max-height: 500px;\n",
              "      }\n",
              "\n",
              "      pre.function-repr-contents.function-repr-contents-collapsed {\n",
              "        cursor: pointer;\n",
              "        max-height: 100px;\n",
              "      }\n",
              "    </style>\n",
              "    <pre style=\"white-space: initial; background:\n",
              "         var(--colab-secondary-surface-color); padding: 8px 12px;\n",
              "         border-bottom: 1px solid var(--colab-border-color);\"><b>matplotlib.pyplot.show</b><br/>def show(*args, **kwargs)</pre><pre class=\"function-repr-contents function-repr-contents-collapsed\" style=\"\"><a class=\"filepath\" style=\"display:none\" href=\"#\">/usr/local/lib/python3.10/dist-packages/matplotlib/pyplot.py</a>Display all open figures.\n",
              "\n",
              "Parameters\n",
              "----------\n",
              "block : bool, optional\n",
              "    Whether to wait for all figures to be closed before returning.\n",
              "\n",
              "    If `True` block and run the GUI main loop until all figure windows\n",
              "    are closed.\n",
              "\n",
              "    If `False` ensure that all figure windows are displayed and return\n",
              "    immediately.  In this case, you are responsible for ensuring\n",
              "    that the event loop is running to have responsive figures.\n",
              "\n",
              "    Defaults to True in non-interactive mode and to False in interactive\n",
              "    mode (see `.pyplot.isinteractive`).\n",
              "\n",
              "See Also\n",
              "--------\n",
              "ion : Enable interactive mode, which shows / updates the figure after\n",
              "      every plotting command, so that calling ``show()`` is not necessary.\n",
              "ioff : Disable interactive mode.\n",
              "savefig : Save the figure to an image file instead of showing it on screen.\n",
              "\n",
              "Notes\n",
              "-----\n",
              "**Saving figures to file and showing a window at the same time**\n",
              "\n",
              "If you want an image file as well as a user interface window, use\n",
              "`.pyplot.savefig` before `.pyplot.show`. At the end of (a blocking)\n",
              "``show()`` the figure is closed and thus unregistered from pyplot. Calling\n",
              "`.pyplot.savefig` afterwards would save a new and thus empty figure. This\n",
              "limitation of command order does not apply if the show is non-blocking or\n",
              "if you keep a reference to the figure and use `.Figure.savefig`.\n",
              "\n",
              "**Auto-show in jupyter notebooks**\n",
              "\n",
              "The jupyter backends (activated via ``%matplotlib inline``,\n",
              "``%matplotlib notebook``, or ``%matplotlib widget``), call ``show()`` at\n",
              "the end of every cell by default. Thus, you usually don&#x27;t have to call it\n",
              "explicitly there.</pre>\n",
              "      <script>\n",
              "      if (google.colab.kernel.accessAllowed && google.colab.files && google.colab.files.view) {\n",
              "        for (const element of document.querySelectorAll('.filepath')) {\n",
              "          element.style.display = 'block'\n",
              "          element.onclick = (event) => {\n",
              "            event.preventDefault();\n",
              "            event.stopPropagation();\n",
              "            google.colab.files.view(element.textContent, 401);\n",
              "          };\n",
              "        }\n",
              "      }\n",
              "      for (const element of document.querySelectorAll('.function-repr-contents')) {\n",
              "        element.onclick = (event) => {\n",
              "          event.preventDefault();\n",
              "          event.stopPropagation();\n",
              "          element.classList.toggle('function-repr-contents-collapsed');\n",
              "        };\n",
              "      }\n",
              "      </script>\n",
              "      </div>"
            ]
          },
          "metadata": {},
          "execution_count": 24
        },
        {
          "output_type": "display_data",
          "data": {
            "text/plain": [
              "<Figure size 640x480 with 1 Axes>"
            ],
            "image/png": "[encoded data removed]"
          },
          "metadata": {}
        }
      ]
    }
  ]
}
