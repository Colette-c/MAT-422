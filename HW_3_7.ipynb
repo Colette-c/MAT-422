{
  "nbformat": 4,
  "nbformat_minor": 0,
  "metadata": {
    "colab": {
      "provenance": [],
      "authorship_tag": "ABX9TyPshQk9FTZdpfVP6kGng6CR",
      "include_colab_link": true
    },
    "kernelspec": {
      "name": "python3",
      "display_name": "Python 3"
    },
    "language_info": {
      "name": "python"
    }
  },
  "cells": [
    {
      "cell_type": "markdown",
      "metadata": {
        "id": "view-in-github",
        "colab_type": "text"
      },
      "source": [
        "<a href=\"https://colab.research.google.com/github/Colette-c/MAT-422/blob/main/HW_3_7.ipynb\" target=\"_parent\"><img src=\"https://colab.research.google.com/assets/colab-badge.svg\" alt=\"Open In Colab\"/></a>"
      ]
    },
    {
      "cell_type": "markdown",
      "source": [
        "#Neural Networks"
      ],
      "metadata": {
        "id": "PNHk_dGKWBnu"
      }
    },
    {
      "cell_type": "code",
      "execution_count": 9,
      "metadata": {
        "colab": {
          "base_uri": "https://localhost:8080/"
        },
        "id": "uDwskZrc1P7D",
        "outputId": "d22a85eb-65e6-4cb2-aed7-a0d3461e350a"
      },
      "outputs": [
        {
          "output_type": "stream",
          "name": "stdout",
          "text": [
            "Epoch 0, Loss: 0.45420522091806426\n",
            "Epoch 1000, Loss: 0.015174459356917566\n",
            "Epoch 2000, Loss: 0.0034487176830037486\n",
            "Epoch 3000, Loss: 0.0017542077230208244\n",
            "Epoch 4000, Loss: 0.0011393208805266888\n",
            "Epoch 5000, Loss: 0.0008311431778569072\n",
            "Epoch 6000, Loss: 0.0006486945735062011\n",
            "Epoch 7000, Loss: 0.0005290871120171327\n",
            "Epoch 8000, Loss: 0.0004450843770327675\n",
            "Epoch 9000, Loss: 0.0003830834304400625\n",
            "\n",
            "Final prediction values:\n",
            "[[0.00229235]\n",
            " [0.01868908]\n",
            " [0.01897543]\n",
            " [0.97494294]]\n",
            "\n",
            "Original true values\n",
            "[[0]\n",
            " [0]\n",
            " [0]\n",
            " [1]]\n"
          ]
        }
      ],
      "source": [
        "import numpy as np\n",
        "\n",
        "## Define activation functions and their derivatives\n",
        "## Sigmoid functions\n",
        "def sigmoid(x):\n",
        "    return 1 / (1 + np.exp(-x))\n",
        "\n",
        "def sigmoid_derivative(sigmoid):\n",
        "    return sigmoid * (1 - sigmoid)\n",
        "\n",
        "## Mean Squared Error Cost Functions\n",
        "def mean_squared_error(y_true, y_pred):\n",
        "    return np.mean((y_true - y_pred)**2)\n",
        "\n",
        "def mean_squared_error_derivative(y_true, y_pred):\n",
        "    return 2 * (y_pred - y_true)\n",
        "\n",
        "## Example dataset\n",
        "X = np.array([[0, 0], [0, 1], [1, 0], [1, 1]])\n",
        "y = np.array([[0], [0], [0], [1]])\n",
        "\n",
        "## Initialize parameters\n",
        "np.random.seed(42)\n",
        "input_size = 2     ## Number of input neurons\n",
        "hidden_size = 2    ## Number of neurons in the hidden layer\n",
        "output_size = 1    ## Number of output neurons\n",
        "\n",
        "## Weights and biases initialization\n",
        "W1 = np.random.rand(input_size, hidden_size)\n",
        "b1 = np.random.rand(1, hidden_size)\n",
        "W2 = np.random.rand(hidden_size, output_size)\n",
        "b2 = np.random.rand(1, output_size)\n",
        "\n",
        "## Training parameters\n",
        "learning_rate = 0.1\n",
        "epochs = 10000\n",
        "\n",
        "## Training the neural network using backpropagation\n",
        "for epoch in range(epochs):\n",
        "    ## Forward pass\n",
        "    ## Layer 1 (Input to Hidden)\n",
        "    z1 = np.dot(X, W1) + b1\n",
        "    a1 = sigmoid(z1)\n",
        "\n",
        "    ## Layer 2 (Hidden to Output)\n",
        "    z2 = np.dot(a1, W2) + b2\n",
        "    a2 = sigmoid(z2)\n",
        "\n",
        "    ## Cost function (Mean Squared Error)\n",
        "    loss = mean_squared_error(y, a2)\n",
        "\n",
        "    ## Backpropagation\n",
        "    ## Output layer error and gradient\n",
        "    d_loss_a2 = mean_squared_error_derivative(y, a2)\n",
        "    d_a2_z2 = sigmoid_derivative(a2)\n",
        "    d_loss_z2 = d_loss_a2 * d_a2_z2  ## Chain rule\n",
        "    d_loss_W2 = np.dot(a1.T, d_loss_z2)  ## Gradient for W2\n",
        "    d_loss_b2 = np.sum(d_loss_z2, axis=0, keepdims=True)  ## Gradient for b2\n",
        "\n",
        "    ## Hidden layer error and gradient\n",
        "    d_loss_a1 = np.dot(d_loss_z2, W2.T)\n",
        "    d_a1_z1 = sigmoid_derivative(a1)\n",
        "    d_loss_z1 = d_loss_a1 * d_a1_z1  ## Chain rule\n",
        "    d_loss_W1 = np.dot(X.T, d_loss_z1)  ## Gradient for W1\n",
        "    d_loss_b1 = np.sum(d_loss_z1, axis=0, keepdims=True)  ## Gradient for b1\n",
        "\n",
        "    ## Update weights and biases\n",
        "    W2 -= learning_rate * d_loss_W2\n",
        "    b2 -= learning_rate * d_loss_b2\n",
        "    W1 -= learning_rate * d_loss_W1\n",
        "    b1 -= learning_rate * d_loss_b1\n",
        "\n",
        "    ## Print loss every 1000 epochs\n",
        "    if epoch % 1000 == 0:\n",
        "        print(f\"Epoch {epoch}, Loss: {loss}\")\n",
        "\n",
        "## Final results\n",
        "print(\"\\nFinal prediction values:\")\n",
        "print(a2)\n",
        "print(\"\\nOriginal true values\")\n",
        "print(y)"
      ]
    },
    {
      "cell_type": "markdown",
      "source": [
        "# Mathematical Formulation\n",
        "We use the equation $\\hat{y}=z=xw+b$ where $x$ is the input or the previous layer output and $w$ is the weight and $b$ is the bias.\n",
        "#Activation Functions\n",
        "For this example we used the sigmoid function for activation, $$\\sigma(x)=\\frac{1}{1+e^{-x}}$$ and it's derivative in terms of the sigmoid function is $$\\sigma(x)=\\sigma(x)(1-\\sigma(x))$$\n",
        "#Cost Function\n",
        "We used Mean Squared Error(MSE) as the cost function $$MSE=\\frac{1}{n}\\sum(y_{true}-y_{pred})^2$$\n",
        "#Backpropagation Algorithm\n",
        "Using the gradient calculated for each layer's weight and bias, we update the weights and biases.\n",
        "$W=W-\\text{learning rate} \\times \\text{gradient}$, $b=b-\\text{learning rate} \\times \\text{gradient}$\n"
      ],
      "metadata": {
        "id": "1DI_CS3AU_2Q"
      }
    }
  ]
}