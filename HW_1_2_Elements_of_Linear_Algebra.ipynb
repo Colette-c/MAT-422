{
  "nbformat": 4,
  "nbformat_minor": 0,
  "metadata": {
    "colab": {
      "provenance": [],
      "authorship_tag": "ABX9TyMJTWrpfhjJrnaKQYQ8cS2j",
      "include_colab_link": true
    },
    "kernelspec": {
      "name": "python3",
      "display_name": "Python 3"
    },
    "language_info": {
      "name": "python"
    }
  },
  "cells": [
    {
      "cell_type": "markdown",
      "metadata": {
        "id": "view-in-github",
        "colab_type": "text"
      },
      "source": [
        "<a href=\"https://colab.research.google.com/github/Colette-c/MAT-422/blob/main/HW_1_2_Elements_of_Linear_Algebra.ipynb\" target=\"_parent\"><img src=\"https://colab.research.google.com/assets/colab-badge.svg\" alt=\"Open In Colab\"/></a>"
      ]
    },
    {
      "cell_type": "markdown",
      "source": [
        "# Linear Spaces\n",
        "\n",
        "Definition: A **linear subspace** of $V$ is a subset $U ⊆ V$ that is closed under vector addition and scalar multiplication.\n",
        "\n",
        "Definition: Let $w_1,...,w_m \\in V$. The **span** of $\\{w_1,...,w_m\\}$, denoted $span(w_1,...,w_m)$, is the set of all linear combinations of the $w_j$'s.\n",
        "\n",
        "The following example shows just one linear combination, or one element of the spanning set for $V$, when $V=(1,0,2)$.\n"
      ],
      "metadata": {
        "id": "ZFlBY4_uzRSV"
      }
    },
    {
      "cell_type": "code",
      "execution_count": 1,
      "metadata": {
        "colab": {
          "base_uri": "https://localhost:8080/"
        },
        "id": "8XktFXaAydWb",
        "outputId": "cc331caf-8a7b-45b6-a74b-a1530ca900fe"
      },
      "outputs": [
        {
          "output_type": "stream",
          "name": "stdout",
          "text": [
            "10\n"
          ]
        }
      ],
      "source": [
        "V = [1,0,2]\n",
        "a1=6; a2=4; a3=2\n",
        "A = [a1,a2,a3]\n",
        "span = A[0]*V[0] + A[1]*V[1] + A[2]*V[2]\n",
        "print(span)"
      ]
    },
    {
      "cell_type": "markdown",
      "source": [
        "Definition: A list of vectors $u_1,..., u_m$ is **linearly independent** if none of them can be written as a linear combination of the others, that is,\n",
        "$∀i, u∉span(\\{u_j:j\\neq i\\})$.\n",
        "\n",
        "Lemma: The vectors $u_1,...,u_m$ are linearly independent if and only if $∑_{j=1}^m α_ju_j=0 \\Longrightarrow α_j = 0. \\forall j.$\n",
        "\n",
        "Definition: Let $A\\in \\mathbb{R}^{n×m}$ be an $n \\times m$ matrix with columns $a_1,...,a_m \\in \\mathbb{R}^n$. The **column space** of A is the span of the columns of A, or $col(A) = span(a_1,...,a_m)\\in \\mathbb{R}^n$.\n",
        "\n",
        "Definition: Let $U$ be a linear subspace of $V$. A basis of $U$ is a list of vectors $u_1,...,u_m$ in $U$ that: 1. span $U$; and 2. are linearly independent.\n",
        "\n",
        "All bases of a linear subspace will have the same number of elements. This length of the basis is called the **dimension** of the linear subspace ($dim(U)$). Similarly the dimension, or length of a column space is called the rank."
      ],
      "metadata": {
        "id": "P1ZS6sWV45o0"
      }
    },
    {
      "cell_type": "markdown",
      "source": [
        "# Orthogonality\n",
        "\n",
        "Norm and Inner Product: $⟨u, v⟩=u ⋅ v=∑_i^n{u_iv_i}$ and $||u||=\\sqrt{∑_1^n{u_i^2}}$\n",
        "\n",
        "Definition: A list of vectors are **orthonormal** when the inner product $\\langle u_i,u_j\\rangle = 0$ and the norm of each is $||u_i||=1$\n",
        "\n",
        "The following example will find the norm and inner products of a list of vectors. We can see that this list of vectors are not orthonormal, but the first two elements of the list are orthonormal because their inner product is 0 and their respective norms are 1."
      ],
      "metadata": {
        "id": "P5TfgTFXU0Xs"
      }
    },
    {
      "cell_type": "code",
      "source": [
        "import numpy as np\n",
        "\n",
        "def norm(ui):\n",
        "  n = ui[0]**2 + ui[1]**2 + ui[2]**2\n",
        "  return n\n",
        "def inner(u,v):\n",
        "  dot = u[0]*v[0] + u[1]*v[1] + u[2]*v[2]\n",
        "  return dot"
      ],
      "metadata": {
        "id": "NlOcuwg7Z8w0"
      },
      "execution_count": 2,
      "outputs": []
    },
    {
      "cell_type": "code",
      "source": [
        "u = [[1,0,0],[0,1,0],[0,0,2],[1,1,1]]\n",
        "for i in u:\n",
        "  for j in u:\n",
        "    if i==j:\n",
        "      uinorm = norm(i)\n",
        "    else:\n",
        "      ui_uj = inner(i,j)\n",
        "      print('inner product of u',u.index(i)+1,'and u',u.index(j)+1,': ',ui_uj)\n",
        "  print('norm of u',u.index(i)+1,': ',uinorm)"
      ],
      "metadata": {
        "colab": {
          "base_uri": "https://localhost:8080/"
        },
        "id": "EqxxjSh-bY2U",
        "outputId": "44fe54d8-d69d-4ccd-dc70-b1f2af9536ac"
      },
      "execution_count": 13,
      "outputs": [
        {
          "output_type": "stream",
          "name": "stdout",
          "text": [
            "inner product of u 1 and u 2 :  0\n",
            "inner product of u 1 and u 3 :  0\n",
            "inner product of u 1 and u 4 :  1\n",
            "norm of u 1 :  1\n",
            "inner product of u 2 and u 1 :  0\n",
            "inner product of u 2 and u 3 :  0\n",
            "inner product of u 2 and u 4 :  1\n",
            "norm of u 2 :  1\n",
            "inner product of u 3 and u 1 :  0\n",
            "inner product of u 3 and u 2 :  0\n",
            "inner product of u 3 and u 4 :  2\n",
            "norm of u 3 :  4\n",
            "inner product of u 4 and u 1 :  1\n",
            "inner product of u 4 and u 2 :  1\n",
            "inner product of u 4 and u 3 :  2\n",
            "norm of u 4 :  3\n"
          ]
        }
      ]
    },
    {
      "cell_type": "markdown",
      "source": [
        "Orthogonal Projection: Let $\\mathcal{U} \\subseteq V$ be a linear subspace with orthonormal basis $q_1,...,q_m$. The orthogonal projection of $v \\in V$ on $\\mathcal{U}$ is defined as $\\mathcal{P}_\\mathcal{U}v=∑_{j=1}^m⟨v,q_j⟩q_j$.\n",
        "\n",
        "Best Approximation Theorem: Let $\\mathcal{U} \\subseteq V$ be a linear subspace with orthonormal basis $q_1,...,q_m$ and let $v ∈ V$. For any $u \\in \\mathcal{U}$: $||v-\\mathcal{P}_\\mathcal{U}v|| ≤ ||v-u||$"
      ],
      "metadata": {
        "id": "UM9HcqnXfI2e"
      }
    },
    {
      "cell_type": "markdown",
      "source": [
        "# Gram-Schmidt Process\n",
        "\n",
        "Using the set of vectors from the previous example, $u_1,...,u_4$ we will preform the Gram-Schmidt Process to create a set of orthonormal vectors $e_1,...,e_4$.\n",
        "\n",
        "$v_1 = u_1 = [1,0,0] \\\\\n",
        "e_1 = \\frac{v_1}{||v_1||}=[1,0,0] \\\\\n",
        "v_2 = u_2 - \\mathcal{P}_{v_1}u_2 = [0,1,0] - [0,0,0] \\\\\n",
        "e_2 = \\frac{v_2}{||v_2||}=[0,1,0] \\\\\n",
        "v_3 = u_3 - \\mathcal{P}_{v_1}u_3 - \\mathcal{P}_{v_2}u_3 = [0,0,2] - [0,0,0] - [0,0,0] \\\\ e_3 = \\frac{v_3}{||v_3||} \\\\\n",
        "v_4 = u_4 - \\mathcal{P}_{v_1}u_4 - \\mathcal{P}_{v_2}u_4 - \\mathcal{P}_{v_3}u_4 = [2,2,2] - [2,0,0] - [0,2,0] - [0,0,2] = [0,0,0] \\\\ e_4 = [0,0,0]$\n",
        "\n",
        "So our list of vector goes from $([1,0,0],[0,1,0],[0,0,2],[2,2,2])$ to $([1,0,0],[0,1,0],[0,0,1],[0,0,0])$"
      ],
      "metadata": {
        "id": "cp5_RnWPhR2n"
      }
    },
    {
      "cell_type": "markdown",
      "source": [
        "# Eigenvalues and Eigenvectors\n",
        "\n",
        "Definition: Let $A \\in \\mathbb{R}^{d\\times d}$ be a square matrix. Then $λ \\in \\mathbb{R}$ is an **eigenvalue** of $A$ if there exists a nonzero vector $x\\neq 0$ such that $Ax=λx$. The vector $x$ is referred to as an eigenvector."
      ],
      "metadata": {
        "id": "9qanR209jXQP"
      }
    },
    {
      "cell_type": "code",
      "source": [
        "A = np.array([[2,6,2],[3,4,1],[5,2,2]])\n",
        "\n",
        "l,x = np.linalg.eig(A)\n",
        "print('eigenvalues of A = ',l)\n",
        "print('eigenvectors of A = ',x)"
      ],
      "metadata": {
        "colab": {
          "base_uri": "https://localhost:8080/"
        },
        "id": "GqTSjTiyYVWk",
        "outputId": "cb988846-dc2e-43e6-f9a1-93d481686186"
      },
      "execution_count": 4,
      "outputs": [
        {
          "output_type": "stream",
          "name": "stdout",
          "text": [
            "eigenvalues of A =  [ 8.84911069 -2.05745852  1.20834783]\n",
            "eigenvectors of A =  [[-0.6191055  -0.66547415 -0.02505382]\n",
            " [-0.50674245  0.21140289 -0.31315186]\n",
            " [-0.59993372  0.71585821  0.94937254]]\n"
          ]
        }
      ]
    },
    {
      "cell_type": "markdown",
      "source": [
        "$diag(λ_1,...,λ_d)$ is the notation for the diagonal of a matrix.\n",
        "\n",
        "Let $A$ be similar to matrix $D = diag(λ_1,...,λ_d)$ with distinct diagonal entries, then there exists a nonsingular matix $P$ such that $A = PDP^{-1}$\n",
        "\n",
        "Theorem: If $A$ is symmentric, then any two eigenvectors from different eigenspaces are orthogonal."
      ],
      "metadata": {
        "id": "soyatYLMZl9A"
      }
    },
    {
      "cell_type": "code",
      "source": [
        "B = np.array([[1,7,3],[7,4,5],[3,5,2]])\n",
        "\n",
        "l,x = np.linalg.eig(B)\n",
        "print('eigenvalues of B = ',l)\n",
        "print('eigenvectors of B = ',x)\n",
        "print('inner product of eigenvectors of B = ',round(np.dot(x[0],x[1])))"
      ],
      "metadata": {
        "colab": {
          "base_uri": "https://localhost:8080/"
        },
        "id": "yLOid3f6aj9C",
        "outputId": "1231c0d0-4621-4d0f-bb99-d6071ce185c9"
      },
      "execution_count": 10,
      "outputs": [
        {
          "output_type": "stream",
          "name": "stdout",
          "text": [
            "eigenvalues of B =  [12.76668248 -4.80486473 -0.96181775]\n",
            "eigenvectors of B =  [[-0.53632236 -0.71906617 -0.44193005]\n",
            " [-0.69847327  0.67207302 -0.24587181]\n",
            " [-0.47380736 -0.17680978  0.86269629]]\n",
            "inner product of eigenvectors of B =  0\n"
          ]
        }
      ]
    },
    {
      "cell_type": "markdown",
      "source": [
        "We know that the matrix $B$ is symmetric because the inner product of its distinct eigenvectors is equal to $0$ meaning that these eigenvectors are orthogonal."
      ],
      "metadata": {
        "id": "KFn0A2OhbzXe"
      }
    }
  ]
}